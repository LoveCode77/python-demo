{
 "cells": [
  {
   "cell_type": "code",
   "id": "initial_id",
   "metadata": {
    "collapsed": true
   },
   "source": [
    "from traceback import print_tb\n",
    "\n",
    "flag=1\n",
    "while flag:print(\"111111\")\n"
   ],
   "outputs": [],
   "execution_count": null
  },
  {
   "metadata": {},
   "cell_type": "code",
   "source": [
    "sites=[\"Baidu\",\"Google\",\"Bing\"]\n",
    "for site in sites:\n",
    "    print(site)\n"
   ],
   "id": "e5eee68636dd54c7",
   "outputs": [],
   "execution_count": null
  },
  {
   "metadata": {},
   "cell_type": "code",
   "source": [
    "word=\"excellent\"\n",
    "for w in word:\n",
    "    print(w)"
   ],
   "id": "ee1c6cead3a959e6",
   "outputs": [],
   "execution_count": null
  },
  {
   "metadata": {},
   "cell_type": "code",
   "source": [
    "word=\"无心红旗\"\n",
    "for w in word:\n",
    "    print(w)"
   ],
   "id": "bad11dd8ef0a225f",
   "outputs": [],
   "execution_count": null
  },
  {
   "metadata": {},
   "cell_type": "code",
   "source": [
    "for i in range(10):\n",
    "    print(i)\n"
   ],
   "id": "cc7700cd1e617c14",
   "outputs": [],
   "execution_count": null
  },
  {
   "metadata": {},
   "cell_type": "code",
   "source": [
    "for i in range(1,11):\n",
    "    print(i)\n",
    "else:\n",
    "    print(\"循环end---\")"
   ],
   "id": "9dd7a1a583a6e7ca",
   "outputs": [],
   "execution_count": null
  },
  {
   "metadata": {
    "ExecuteTime": {
     "end_time": "2025-07-17T02:19:27.741143Z",
     "start_time": "2025-07-17T02:19:27.729662Z"
    }
   },
   "cell_type": "code",
   "source": [
    "for i in range(1,111,2):\n",
    "    print(i)"
   ],
   "id": "96b784f664cb5a37",
   "outputs": [
    {
     "name": "stdout",
     "output_type": "stream",
     "text": [
      "1\n",
      "3\n",
      "5\n",
      "7\n",
      "9\n",
      "11\n",
      "13\n",
      "15\n",
      "17\n",
      "19\n",
      "21\n",
      "23\n",
      "25\n",
      "27\n",
      "29\n",
      "31\n",
      "33\n",
      "35\n",
      "37\n",
      "39\n",
      "41\n",
      "43\n",
      "45\n",
      "47\n",
      "49\n",
      "51\n",
      "53\n",
      "55\n",
      "57\n",
      "59\n",
      "61\n",
      "63\n",
      "65\n",
      "67\n",
      "69\n",
      "71\n",
      "73\n",
      "75\n",
      "77\n",
      "79\n",
      "81\n",
      "83\n",
      "85\n",
      "87\n",
      "89\n",
      "91\n",
      "93\n",
      "95\n",
      "97\n",
      "99\n",
      "101\n",
      "103\n",
      "105\n",
      "107\n",
      "109\n"
     ]
    }
   ],
   "execution_count": 19
  },
  {
   "metadata": {
    "ExecuteTime": {
     "end_time": "2025-07-17T02:26:45.003428Z",
     "start_time": "2025-07-17T02:26:44.991243Z"
    }
   },
   "cell_type": "code",
   "source": [
    "for i in range(-19,-99999,-199):\n",
    "    print(i)\n",
    "else:\n",
    "    print(\"end!\")\n"
   ],
   "id": "faaf2baeebf46507",
   "outputs": [
    {
     "name": "stdout",
     "output_type": "stream",
     "text": [
      "-19\n",
      "-218\n",
      "-417\n",
      "-616\n",
      "-815\n",
      "-1014\n",
      "-1213\n",
      "-1412\n",
      "-1611\n",
      "-1810\n",
      "-2009\n",
      "-2208\n",
      "-2407\n",
      "-2606\n",
      "-2805\n",
      "-3004\n",
      "-3203\n",
      "-3402\n",
      "-3601\n",
      "-3800\n",
      "-3999\n",
      "-4198\n",
      "-4397\n",
      "-4596\n",
      "-4795\n",
      "-4994\n",
      "-5193\n",
      "-5392\n",
      "-5591\n",
      "-5790\n",
      "-5989\n",
      "-6188\n",
      "-6387\n",
      "-6586\n",
      "-6785\n",
      "-6984\n",
      "-7183\n",
      "-7382\n",
      "-7581\n",
      "-7780\n",
      "-7979\n",
      "-8178\n",
      "-8377\n",
      "-8576\n",
      "-8775\n",
      "-8974\n",
      "-9173\n",
      "-9372\n",
      "-9571\n",
      "-9770\n",
      "-9969\n",
      "-10168\n",
      "-10367\n",
      "-10566\n",
      "-10765\n",
      "-10964\n",
      "-11163\n",
      "-11362\n",
      "-11561\n",
      "-11760\n",
      "-11959\n",
      "-12158\n",
      "-12357\n",
      "-12556\n",
      "-12755\n",
      "-12954\n",
      "-13153\n",
      "-13352\n",
      "-13551\n",
      "-13750\n",
      "-13949\n",
      "-14148\n",
      "-14347\n",
      "-14546\n",
      "-14745\n",
      "-14944\n",
      "-15143\n",
      "-15342\n",
      "-15541\n",
      "-15740\n",
      "-15939\n",
      "-16138\n",
      "-16337\n",
      "-16536\n",
      "-16735\n",
      "-16934\n",
      "-17133\n",
      "-17332\n",
      "-17531\n",
      "-17730\n",
      "-17929\n",
      "-18128\n",
      "-18327\n",
      "-18526\n",
      "-18725\n",
      "-18924\n",
      "-19123\n",
      "-19322\n",
      "-19521\n",
      "-19720\n",
      "-19919\n",
      "-20118\n",
      "-20317\n",
      "-20516\n",
      "-20715\n",
      "-20914\n",
      "-21113\n",
      "-21312\n",
      "-21511\n",
      "-21710\n",
      "-21909\n",
      "-22108\n",
      "-22307\n",
      "-22506\n",
      "-22705\n",
      "-22904\n",
      "-23103\n",
      "-23302\n",
      "-23501\n",
      "-23700\n",
      "-23899\n",
      "-24098\n",
      "-24297\n",
      "-24496\n",
      "-24695\n",
      "-24894\n",
      "-25093\n",
      "-25292\n",
      "-25491\n",
      "-25690\n",
      "-25889\n",
      "-26088\n",
      "-26287\n",
      "-26486\n",
      "-26685\n",
      "-26884\n",
      "-27083\n",
      "-27282\n",
      "-27481\n",
      "-27680\n",
      "-27879\n",
      "-28078\n",
      "-28277\n",
      "-28476\n",
      "-28675\n",
      "-28874\n",
      "-29073\n",
      "-29272\n",
      "-29471\n",
      "-29670\n",
      "-29869\n",
      "-30068\n",
      "-30267\n",
      "-30466\n",
      "-30665\n",
      "-30864\n",
      "-31063\n",
      "-31262\n",
      "-31461\n",
      "-31660\n",
      "-31859\n",
      "-32058\n",
      "-32257\n",
      "-32456\n",
      "-32655\n",
      "-32854\n",
      "-33053\n",
      "-33252\n",
      "-33451\n",
      "-33650\n",
      "-33849\n",
      "-34048\n",
      "-34247\n",
      "-34446\n",
      "-34645\n",
      "-34844\n",
      "-35043\n",
      "-35242\n",
      "-35441\n",
      "-35640\n",
      "-35839\n",
      "-36038\n",
      "-36237\n",
      "-36436\n",
      "-36635\n",
      "-36834\n",
      "-37033\n",
      "-37232\n",
      "-37431\n",
      "-37630\n",
      "-37829\n",
      "-38028\n",
      "-38227\n",
      "-38426\n",
      "-38625\n",
      "-38824\n",
      "-39023\n",
      "-39222\n",
      "-39421\n",
      "-39620\n",
      "-39819\n",
      "-40018\n",
      "-40217\n",
      "-40416\n",
      "-40615\n",
      "-40814\n",
      "-41013\n",
      "-41212\n",
      "-41411\n",
      "-41610\n",
      "-41809\n",
      "-42008\n",
      "-42207\n",
      "-42406\n",
      "-42605\n",
      "-42804\n",
      "-43003\n",
      "-43202\n",
      "-43401\n",
      "-43600\n",
      "-43799\n",
      "-43998\n",
      "-44197\n",
      "-44396\n",
      "-44595\n",
      "-44794\n",
      "-44993\n",
      "-45192\n",
      "-45391\n",
      "-45590\n",
      "-45789\n",
      "-45988\n",
      "-46187\n",
      "-46386\n",
      "-46585\n",
      "-46784\n",
      "-46983\n",
      "-47182\n",
      "-47381\n",
      "-47580\n",
      "-47779\n",
      "-47978\n",
      "-48177\n",
      "-48376\n",
      "-48575\n",
      "-48774\n",
      "-48973\n",
      "-49172\n",
      "-49371\n",
      "-49570\n",
      "-49769\n",
      "-49968\n",
      "-50167\n",
      "-50366\n",
      "-50565\n",
      "-50764\n",
      "-50963\n",
      "-51162\n",
      "-51361\n",
      "-51560\n",
      "-51759\n",
      "-51958\n",
      "-52157\n",
      "-52356\n",
      "-52555\n",
      "-52754\n",
      "-52953\n",
      "-53152\n",
      "-53351\n",
      "-53550\n",
      "-53749\n",
      "-53948\n",
      "-54147\n",
      "-54346\n",
      "-54545\n",
      "-54744\n",
      "-54943\n",
      "-55142\n",
      "-55341\n",
      "-55540\n",
      "-55739\n",
      "-55938\n",
      "-56137\n",
      "-56336\n",
      "-56535\n",
      "-56734\n",
      "-56933\n",
      "-57132\n",
      "-57331\n",
      "-57530\n",
      "-57729\n",
      "-57928\n",
      "-58127\n",
      "-58326\n",
      "-58525\n",
      "-58724\n",
      "-58923\n",
      "-59122\n",
      "-59321\n",
      "-59520\n",
      "-59719\n",
      "-59918\n",
      "-60117\n",
      "-60316\n",
      "-60515\n",
      "-60714\n",
      "-60913\n",
      "-61112\n",
      "-61311\n",
      "-61510\n",
      "-61709\n",
      "-61908\n",
      "-62107\n",
      "-62306\n",
      "-62505\n",
      "-62704\n",
      "-62903\n",
      "-63102\n",
      "-63301\n",
      "-63500\n",
      "-63699\n",
      "-63898\n",
      "-64097\n",
      "-64296\n",
      "-64495\n",
      "-64694\n",
      "-64893\n",
      "-65092\n",
      "-65291\n",
      "-65490\n",
      "-65689\n",
      "-65888\n",
      "-66087\n",
      "-66286\n",
      "-66485\n",
      "-66684\n",
      "-66883\n",
      "-67082\n",
      "-67281\n",
      "-67480\n",
      "-67679\n",
      "-67878\n",
      "-68077\n",
      "-68276\n",
      "-68475\n",
      "-68674\n",
      "-68873\n",
      "-69072\n",
      "-69271\n",
      "-69470\n",
      "-69669\n",
      "-69868\n",
      "-70067\n",
      "-70266\n",
      "-70465\n",
      "-70664\n",
      "-70863\n",
      "-71062\n",
      "-71261\n",
      "-71460\n",
      "-71659\n",
      "-71858\n",
      "-72057\n",
      "-72256\n",
      "-72455\n",
      "-72654\n",
      "-72853\n",
      "-73052\n",
      "-73251\n",
      "-73450\n",
      "-73649\n",
      "-73848\n",
      "-74047\n",
      "-74246\n",
      "-74445\n",
      "-74644\n",
      "-74843\n",
      "-75042\n",
      "-75241\n",
      "-75440\n",
      "-75639\n",
      "-75838\n",
      "-76037\n",
      "-76236\n",
      "-76435\n",
      "-76634\n",
      "-76833\n",
      "-77032\n",
      "-77231\n",
      "-77430\n",
      "-77629\n",
      "-77828\n",
      "-78027\n",
      "-78226\n",
      "-78425\n",
      "-78624\n",
      "-78823\n",
      "-79022\n",
      "-79221\n",
      "-79420\n",
      "-79619\n",
      "-79818\n",
      "-80017\n",
      "-80216\n",
      "-80415\n",
      "-80614\n",
      "-80813\n",
      "-81012\n",
      "-81211\n",
      "-81410\n",
      "-81609\n",
      "-81808\n",
      "-82007\n",
      "-82206\n",
      "-82405\n",
      "-82604\n",
      "-82803\n",
      "-83002\n",
      "-83201\n",
      "-83400\n",
      "-83599\n",
      "-83798\n",
      "-83997\n",
      "-84196\n",
      "-84395\n",
      "-84594\n",
      "-84793\n",
      "-84992\n",
      "-85191\n",
      "-85390\n",
      "-85589\n",
      "-85788\n",
      "-85987\n",
      "-86186\n",
      "-86385\n",
      "-86584\n",
      "-86783\n",
      "-86982\n",
      "-87181\n",
      "-87380\n",
      "-87579\n",
      "-87778\n",
      "-87977\n",
      "-88176\n",
      "-88375\n",
      "-88574\n",
      "-88773\n",
      "-88972\n",
      "-89171\n",
      "-89370\n",
      "-89569\n",
      "-89768\n",
      "-89967\n",
      "-90166\n",
      "-90365\n",
      "-90564\n",
      "-90763\n",
      "-90962\n",
      "-91161\n",
      "-91360\n",
      "-91559\n",
      "-91758\n",
      "-91957\n",
      "-92156\n",
      "-92355\n",
      "-92554\n",
      "-92753\n",
      "-92952\n",
      "-93151\n",
      "-93350\n",
      "-93549\n",
      "-93748\n",
      "-93947\n",
      "-94146\n",
      "-94345\n",
      "-94544\n",
      "-94743\n",
      "-94942\n",
      "-95141\n",
      "-95340\n",
      "-95539\n",
      "-95738\n",
      "-95937\n",
      "-96136\n",
      "-96335\n",
      "-96534\n",
      "-96733\n",
      "-96932\n",
      "-97131\n",
      "-97330\n",
      "-97529\n",
      "-97728\n",
      "-97927\n",
      "-98126\n",
      "-98325\n",
      "-98524\n",
      "-98723\n",
      "-98922\n",
      "-99121\n",
      "-99320\n",
      "-99519\n",
      "-99718\n",
      "-99917\n",
      "end!\n"
     ]
    }
   ],
   "execution_count": 23
  },
  {
   "metadata": {
    "ExecuteTime": {
     "end_time": "2025-07-17T02:28:14.622783Z",
     "start_time": "2025-07-17T02:28:14.611877Z"
    }
   },
   "cell_type": "code",
   "source": [
    "a=['Google', 'Baidu', 'Runoob', 'Taobao', 'QQ']\n",
    "for i in range(len(a)):\n",
    "    print(i,a[i])\n"
   ],
   "id": "40acc757f62500b7",
   "outputs": [
    {
     "name": "stdout",
     "output_type": "stream",
     "text": [
      "0 Google\n",
      "1 Baidu\n",
      "2 Runoob\n",
      "3 Taobao\n",
      "4 QQ\n"
     ]
    }
   ],
   "execution_count": 27
  },
  {
   "metadata": {
    "ExecuteTime": {
     "end_time": "2025-07-17T02:35:03.356778Z",
     "start_time": "2025-07-17T02:35:03.345714Z"
    }
   },
   "cell_type": "code",
   "source": [
    "a=list(range(10))\n",
    "print(a)"
   ],
   "id": "25542dcc7291aaa8",
   "outputs": [
    {
     "name": "stdout",
     "output_type": "stream",
     "text": [
      "[0, 1, 2, 3, 4, 5, 6, 7, 8, 9]\n"
     ]
    }
   ],
   "execution_count": 29
  },
  {
   "metadata": {
    "ExecuteTime": {
     "end_time": "2025-07-17T02:36:58.304854Z",
     "start_time": "2025-07-17T02:36:58.292891Z"
    }
   },
   "cell_type": "code",
   "source": [
    "n=6\n",
    "while n>0:\n",
    "    n=n-1\n",
    "    if n%2==0:\n",
    "        break\n",
    "    print(n)\n",
    "else:\n",
    "    print(\"loop end!\")"
   ],
   "id": "71f81234ca135ef4",
   "outputs": [
    {
     "name": "stdout",
     "output_type": "stream",
     "text": [
      "5\n"
     ]
    }
   ],
   "execution_count": 44
  },
  {
   "metadata": {
    "ExecuteTime": {
     "end_time": "2025-07-17T02:38:01.394576Z",
     "start_time": "2025-07-17T02:38:01.385710Z"
    }
   },
   "cell_type": "code",
   "source": [
    "n = 5\n",
    "while n > 0:\n",
    "    n -= 1\n",
    "    if n == 2:\n",
    "        continue\n",
    "    print(n)\n",
    "else:\n",
    "    print(\"loop end!\")\n",
    "print('循环结束。')"
   ],
   "id": "6914d7496493b032",
   "outputs": [
    {
     "name": "stdout",
     "output_type": "stream",
     "text": [
      "4\n",
      "3\n",
      "1\n",
      "0\n",
      "loop end!\n",
      "循环结束。\n"
     ]
    }
   ],
   "execution_count": 47
  },
  {
   "metadata": {
    "ExecuteTime": {
     "end_time": "2025-07-17T02:41:47.375034Z",
     "start_time": "2025-07-17T02:41:47.364412Z"
    }
   },
   "cell_type": "code",
   "source": [
    "#!/usr/bin/python3\n",
    "\n",
    "for letter in 'Runoob':     # 第一个实例\n",
    "   if letter == 'o':        # 字母为 o 时跳过输出\n",
    "      continue\n",
    "   print ('当前字母 :', letter)\n",
    "\n",
    "var = 10                    # 第二个实例\n",
    "while var > 0:\n",
    "   var = var -1\n",
    "   if var == 5:             # 变量为 5 时跳过输出\n",
    "      continue\n",
    "   print ('当前变量值 :', var)\n",
    "print (\"Good bye!\")"
   ],
   "id": "642eab0efcaeebb1",
   "outputs": [
    {
     "name": "stdout",
     "output_type": "stream",
     "text": [
      "当前字母 : R\n",
      "当前字母 : u\n",
      "当前字母 : n\n",
      "当前字母 : b\n",
      "当前变量值 : 9\n",
      "当前变量值 : 8\n",
      "当前变量值 : 7\n",
      "当前变量值 : 6\n",
      "当前变量值 : 4\n",
      "当前变量值 : 3\n",
      "当前变量值 : 2\n",
      "当前变量值 : 1\n",
      "当前变量值 : 0\n",
      "Good bye!\n"
     ]
    }
   ],
   "execution_count": 50
  },
  {
   "metadata": {
    "ExecuteTime": {
     "end_time": "2025-07-17T02:42:18.022715Z",
     "start_time": "2025-07-17T02:42:18.008896Z"
    }
   },
   "cell_type": "code",
   "source": [
    "#!/usr/bin/python3\n",
    "\n",
    "for letter in 'Runoob':\n",
    "   if letter == 'o':\n",
    "      pass\n",
    "      print ('执行 pass 块')\n",
    "   print ('当前字母 :', letter)\n",
    "\n",
    "print (\"Good bye!\")"
   ],
   "id": "840dfa76d759672f",
   "outputs": [
    {
     "name": "stdout",
     "output_type": "stream",
     "text": [
      "当前字母 : R\n",
      "当前字母 : u\n",
      "当前字母 : n\n",
      "执行 pass 块\n",
      "当前字母 : o\n",
      "执行 pass 块\n",
      "当前字母 : o\n",
      "当前字母 : b\n",
      "Good bye!\n"
     ]
    }
   ],
   "execution_count": 52
  },
  {
   "metadata": {
    "ExecuteTime": {
     "end_time": "2025-07-17T03:07:23.761217Z",
     "start_time": "2025-07-17T03:07:23.749546Z"
    }
   },
   "cell_type": "code",
   "source": [
    "class Test:\n",
    "    pass\n",
    "\n",
    "x=Test()\n",
    "print(x)"
   ],
   "id": "f9802b4cdb4cf9e5",
   "outputs": [
    {
     "name": "stdout",
     "output_type": "stream",
     "text": [
      "<__main__.Test object at 0x000002AB0675BE20>\n"
     ]
    }
   ],
   "execution_count": 57
  },
  {
   "metadata": {
    "ExecuteTime": {
     "end_time": "2025-07-17T03:29:22.065634Z",
     "start_time": "2025-07-17T03:12:49.775739Z"
    }
   },
   "cell_type": "code",
   "source": [
    "while True:\n",
    "    pass"
   ],
   "id": "496873b3486e137a",
   "outputs": [
    {
     "ename": "KeyboardInterrupt",
     "evalue": "",
     "output_type": "error",
     "traceback": [
      "\u001B[1;31m---------------------------------------------------------------------------\u001B[0m",
      "\u001B[1;31mKeyboardInterrupt\u001B[0m                         Traceback (most recent call last)",
      "Cell \u001B[1;32mIn[59], line 2\u001B[0m\n\u001B[0;32m      1\u001B[0m \u001B[38;5;28;01mwhile\u001B[39;00m \u001B[38;5;28;01mTrue\u001B[39;00m:\n\u001B[1;32m----> 2\u001B[0m     \u001B[38;5;28;01mpass\u001B[39;00m\n",
      "\u001B[1;31mKeyboardInterrupt\u001B[0m: "
     ]
    }
   ],
   "execution_count": 59
  },
  {
   "metadata": {
    "ExecuteTime": {
     "end_time": "2025-07-17T03:46:33.101201Z",
     "start_time": "2025-07-17T03:46:33.088538Z"
    }
   },
   "cell_type": "code",
   "source": [
    "a,b=0,1\n",
    "while b<100:\n",
    "    print(b,end=',')\n",
    "    b=b+1\n",
    "    a,b=b,a+b"
   ],
   "id": "29ce3022af59191a",
   "outputs": [
    {
     "name": "stdout",
     "output_type": "stream",
     "text": [
      "1,2,5,9,16,27,45,74,"
     ]
    }
   ],
   "execution_count": 67
  },
  {
   "metadata": {
    "ExecuteTime": {
     "end_time": "2025-07-17T03:49:17.123591Z",
     "start_time": "2025-07-17T03:49:17.113040Z"
    }
   },
   "cell_type": "code",
   "source": [
    "names = ['Bob','Tom','alice','Jerry','Wendy','Smith']\n",
    "new_names=[name.upper() for name in names if len(name)>=3]\n",
    "print(new_names)"
   ],
   "id": "6b3565839854c233",
   "outputs": [
    {
     "name": "stdout",
     "output_type": "stream",
     "text": [
      "['BOB', 'TOM', 'ALICE', 'JERRY', 'WENDY', 'SMITH']\n"
     ]
    }
   ],
   "execution_count": 71
  },
  {
   "metadata": {
    "ExecuteTime": {
     "end_time": "2025-07-17T06:24:20.151005Z",
     "start_time": "2025-07-17T06:24:20.142285Z"
    }
   },
   "cell_type": "code",
   "source": [
    "multiples= [i**2 for i in range(300) if i%3==0]\n",
    "print(multiples)"
   ],
   "id": "394ed88ec419232e",
   "outputs": [
    {
     "name": "stdout",
     "output_type": "stream",
     "text": [
      "[0, 9, 36, 81, 144, 225, 324, 441, 576, 729, 900, 1089, 1296, 1521, 1764, 2025, 2304, 2601, 2916, 3249, 3600, 3969, 4356, 4761, 5184, 5625, 6084, 6561, 7056, 7569, 8100, 8649, 9216, 9801, 10404, 11025, 11664, 12321, 12996, 13689, 14400, 15129, 15876, 16641, 17424, 18225, 19044, 19881, 20736, 21609, 22500, 23409, 24336, 25281, 26244, 27225, 28224, 29241, 30276, 31329, 32400, 33489, 34596, 35721, 36864, 38025, 39204, 40401, 41616, 42849, 44100, 45369, 46656, 47961, 49284, 50625, 51984, 53361, 54756, 56169, 57600, 59049, 60516, 62001, 63504, 65025, 66564, 68121, 69696, 71289, 72900, 74529, 76176, 77841, 79524, 81225, 82944, 84681, 86436, 88209]\n"
     ]
    }
   ],
   "execution_count": 80
  },
  {
   "metadata": {
    "ExecuteTime": {
     "end_time": "2025-07-17T06:27:37.319543Z",
     "start_time": "2025-07-17T06:27:37.310217Z"
    }
   },
   "cell_type": "code",
   "source": [
    "listdemo = ['Google','Runoob', 'Taobao']\n",
    "new_dict={key:len(key)-1 for key in listdemo}\n",
    "print(new_dict)"
   ],
   "id": "a4d9f18805049e0a",
   "outputs": [
    {
     "name": "stdout",
     "output_type": "stream",
     "text": [
      "{'Google': 5, 'Runoob': 5, 'Taobao': 5}\n"
     ]
    }
   ],
   "execution_count": 83
  },
  {
   "metadata": {
    "ExecuteTime": {
     "end_time": "2025-07-17T06:35:29.360254Z",
     "start_time": "2025-07-17T06:35:29.334601Z"
    }
   },
   "cell_type": "code",
   "source": [
    "dic={x:x**4 for x in (2,4,6)}\n",
    "print(dic)\n",
    "type(dic)"
   ],
   "id": "e4f94ce054d6b6f2",
   "outputs": [
    {
     "name": "stdout",
     "output_type": "stream",
     "text": [
      "{2: 16, 4: 256, 6: 1296}\n"
     ]
    },
    {
     "data": {
      "text/plain": [
       "dict"
      ]
     },
     "execution_count": 87,
     "metadata": {},
     "output_type": "execute_result"
    }
   ],
   "execution_count": 87
  },
  {
   "metadata": {
    "ExecuteTime": {
     "end_time": "2025-07-17T06:36:14.402866Z",
     "start_time": "2025-07-17T06:36:14.392858Z"
    }
   },
   "cell_type": "code",
   "source": [
    "sets={i**2 for i in range(300) if i%3==0}\n",
    "print(sets)\n",
    "type(sets)"
   ],
   "id": "2ce1f67991446016",
   "outputs": [
    {
     "name": "stdout",
     "output_type": "stream",
     "text": [
      "{0, 9216, 36864, 65025, 15876, 66564, 82944, 9, 3600, 17424, 63504, 77841, 68121, 12321, 36, 2601, 62001, 29241, 576, 1089, 5184, 14400, 28224, 30276, 44100, 46656, 69696, 9801, 81, 27225, 31329, 19044, 60516, 21609, 53361, 71289, 26244, 49284, 38025, 144, 32400, 41616, 88209, 4761, 10404, 79524, 59049, 3249, 25281, 12996, 72900, 84681, 33489, 729, 225, 1764, 2304, 16641, 20736, 57600, 4356, 1296, 11025, 24336, 51984, 15129, 74529, 34596, 39204, 18225, 45369, 324, 81225, 47961, 42849, 2916, 56169, 23409, 13689, 3969, 900, 35721, 7056, 7569, 11664, 76176, 6561, 8100, 86436, 19881, 441, 50625, 6084, 8649, 40401, 22500, 54756, 2025, 1521, 5625}\n"
     ]
    },
    {
     "data": {
      "text/plain": [
       "set"
      ]
     },
     "execution_count": 89,
     "metadata": {},
     "output_type": "execute_result"
    }
   ],
   "execution_count": 89
  },
  {
   "metadata": {
    "ExecuteTime": {
     "end_time": "2025-07-17T06:41:46.533113Z",
     "start_time": "2025-07-17T06:41:46.522024Z"
    }
   },
   "cell_type": "code",
   "source": [
    "a={x for x in 'acvsadfsadfhsdafjsadjfsd'if x not in 'sdfsd'}\n",
    "print(a)\n",
    "type(a)"
   ],
   "id": "678507a24a1e976f",
   "outputs": [
    {
     "name": "stdout",
     "output_type": "stream",
     "text": [
      "{'h', 'j', 'c', 'a', 'v'}\n"
     ]
    },
    {
     "data": {
      "text/plain": [
       "set"
      ]
     },
     "execution_count": 92,
     "metadata": {},
     "output_type": "execute_result"
    }
   ],
   "execution_count": 92
  },
  {
   "metadata": {
    "ExecuteTime": {
     "end_time": "2025-07-17T06:48:03.005702Z",
     "start_time": "2025-07-17T06:48:02.988709Z"
    }
   },
   "cell_type": "code",
   "source": [
    "a=(x for x in range(1,10))\n",
    "print(a)\n",
    "print(type(a))\n",
    "tuple(a)"
   ],
   "id": "75d0a755fb402bd3",
   "outputs": [
    {
     "name": "stdout",
     "output_type": "stream",
     "text": [
      "<generator object <genexpr> at 0x000002AB067B8EB0>\n",
      "<class 'generator'>\n"
     ]
    },
    {
     "data": {
      "text/plain": [
       "(1, 2, 3, 4, 5, 6, 7, 8, 9)"
      ]
     },
     "execution_count": 125,
     "metadata": {},
     "output_type": "execute_result"
    }
   ],
   "execution_count": 125
  }
 ],
 "metadata": {
  "kernelspec": {
   "display_name": "Python 3",
   "language": "python",
   "name": "python3"
  },
  "language_info": {
   "codemirror_mode": {
    "name": "ipython",
    "version": 2
   },
   "file_extension": ".py",
   "mimetype": "text/x-python",
   "name": "python",
   "nbconvert_exporter": "python",
   "pygments_lexer": "ipython2",
   "version": "2.7.6"
  }
 },
 "nbformat": 4,
 "nbformat_minor": 5
}
