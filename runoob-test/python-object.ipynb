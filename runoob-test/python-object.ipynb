{
 "cells": [
  {
   "cell_type": "code",
   "id": "initial_id",
   "metadata": {
    "collapsed": true,
    "ExecuteTime": {
     "end_time": "2025-07-16T06:40:20.248581Z",
     "start_time": "2025-07-16T06:40:20.238153Z"
    }
   },
   "source": [
    "class Myclass():\n",
    "    i=12345\n",
    "    def f(self):\n",
    "        return \"hello world\"\n",
    "x=Myclass()\n",
    "print(x.i)\n",
    "print(x.f())"
   ],
   "outputs": [
    {
     "name": "stdout",
     "output_type": "stream",
     "text": [
      "12345\n",
      "hello world\n"
     ]
    }
   ],
   "execution_count": 6
  },
  {
   "metadata": {
    "ExecuteTime": {
     "end_time": "2025-07-16T06:52:15.378315Z",
     "start_time": "2025-07-16T06:52:15.362776Z"
    }
   },
   "cell_type": "code",
   "source": [
    "class Complex():\n",
    "    def __init__(self,realpart,imagpart):\n",
    "        self.r=realpart\n",
    "        self.i=imagpart\n",
    "x1=Complex(realpart=2,imagpart=3)\n",
    "x2=Complex(20,30)\n",
    "print(x1.r,x1.i)\n",
    "print(x2.r,x2.i)\n",
    "\n"
   ],
   "id": "da7d8c79c9629025",
   "outputs": [
    {
     "name": "stdout",
     "output_type": "stream",
     "text": [
      "2 3\n",
      "20 30\n"
     ]
    }
   ],
   "execution_count": 12
  },
  {
   "metadata": {
    "ExecuteTime": {
     "end_time": "2025-07-16T06:53:57.433678Z",
     "start_time": "2025-07-16T06:53:57.424174Z"
    }
   },
   "cell_type": "code",
   "source": [
    "class Complex:\n",
    "    def __init__(self, realpart, imagpart):\n",
    "        self.r = realpart  # 动态创建属性 r\n",
    "        self.i = imagpart  # 动态创建属性 i\n",
    "\n",
    "x = Complex(1, 2)\n",
    "x.new_attr = 100  # 可以在类外部动态添加新属性\n",
    "print(x.r)\n",
    "print(x.i)\n",
    "print(x.new_attr)\n"
   ],
   "id": "8849a798a0a44760",
   "outputs": [
    {
     "name": "stdout",
     "output_type": "stream",
     "text": [
      "1\n",
      "2\n",
      "100\n"
     ]
    }
   ],
   "execution_count": 17
  },
  {
   "metadata": {
    "ExecuteTime": {
     "end_time": "2025-07-16T06:56:17.195034Z",
     "start_time": "2025-07-16T06:56:17.185103Z"
    }
   },
   "cell_type": "code",
   "source": [
    "class Test:\n",
    "    def prt(self):\n",
    "        print(self)\n",
    "        print(self.__class__)\n",
    "x=Test()\n",
    "x.prt()\n"
   ],
   "id": "f0aa777ccf18bfb0",
   "outputs": [
    {
     "name": "stdout",
     "output_type": "stream",
     "text": [
      "<__main__.Test object at 0x000001BAD48C0F40>\n",
      "<class '__main__.Test'>\n"
     ]
    }
   ],
   "execution_count": 19
  },
  {
   "metadata": {
    "ExecuteTime": {
     "end_time": "2025-07-16T06:57:22.467570Z",
     "start_time": "2025-07-16T06:57:22.457679Z"
    }
   },
   "cell_type": "code",
   "source": [
    "class Test:\n",
    "    def prt(xiongdu):\n",
    "        print(xiongdu)\n",
    "        print(xiongdu.__class__)\n",
    "x=Test()\n",
    "x.prt()\n"
   ],
   "id": "73e3fb82ae6ab440",
   "outputs": [
    {
     "name": "stdout",
     "output_type": "stream",
     "text": [
      "<__main__.Test object at 0x000001BAD38A12E0>\n",
      "<class '__main__.Test'>\n"
     ]
    }
   ],
   "execution_count": 21
  },
  {
   "metadata": {
    "ExecuteTime": {
     "end_time": "2025-07-16T07:03:15.361302Z",
     "start_time": "2025-07-16T07:03:15.350653Z"
    }
   },
   "cell_type": "code",
   "source": [
    "class Myclass():\n",
    "    def __init__(self,value):\n",
    "        self.value=value\n",
    "    def display_value(self):\n",
    "        print(self.value)\n",
    "x=Myclass(1)\n",
    "x.display_value()\n"
   ],
   "id": "c943a019335cf004",
   "outputs": [
    {
     "name": "stdout",
     "output_type": "stream",
     "text": [
      "1\n"
     ]
    }
   ],
   "execution_count": 24
  },
  {
   "metadata": {
    "ExecuteTime": {
     "end_time": "2025-07-16T07:10:52.735672Z",
     "start_time": "2025-07-16T07:10:52.724669Z"
    }
   },
   "cell_type": "code",
   "source": [
    "class people:\n",
    "    name=''\n",
    "    age=0\n",
    "    __weight=0\n",
    "    def __init__(self,name,age,weight):\n",
    "        self.name=name\n",
    "        self.age=age\n",
    "        self.__weight=weight\n",
    "    def speak(self):\n",
    "        print(\"%s 说：我%d岁。\"%(self.name,self.age))\n",
    "x=people(\"xd\",29,123)\n",
    "x.speak()\n"
   ],
   "id": "9ac83c029b4d152e",
   "outputs": [
    {
     "name": "stdout",
     "output_type": "stream",
     "text": [
      "xd 说：我29岁。\n"
     ]
    }
   ],
   "execution_count": 27
  },
  {
   "metadata": {
    "ExecuteTime": {
     "end_time": "2025-07-16T07:31:24.689002Z",
     "start_time": "2025-07-16T07:31:24.677950Z"
    }
   },
   "cell_type": "code",
   "source": [
    "class people:\n",
    "    name=''\n",
    "    age=0\n",
    "    __weight=0\n",
    "    def __init__(self,name,age,weight):\n",
    "        self.name=name\n",
    "        self.age=age\n",
    "        self.__weight=weight\n",
    "    def speak(self):\n",
    "        print(\"%s 说：我%d岁。\"%(self.name,self.age))\n",
    "x=people(\"xd\",29,123)\n",
    "x.speak()\n",
    "class student(people):\n",
    "    grade=''\n",
    "    def __init__(self,name,age,weight,grade):\n",
    "        people.__init__(self,name,age,weight)\n",
    "        self.grade=grade\n",
    "    def speak(self):\n",
    "        print(\"%s 说：我%d 岁了,我读%d年级！！\"%(self.name,self.age,self.grade))\n",
    "x=student(\"xd\",29,123,123)\n",
    "x.speak()"
   ],
   "id": "3e7d8ee0d350c796",
   "outputs": [
    {
     "name": "stdout",
     "output_type": "stream",
     "text": [
      "xd 说：我29岁。\n",
      "xd 说：我29 岁了,我读123年级！！\n"
     ]
    }
   ],
   "execution_count": 33
  },
  {
   "metadata": {
    "ExecuteTime": {
     "end_time": "2025-07-16T07:56:04.519088Z",
     "start_time": "2025-07-16T07:56:04.506587Z"
    }
   },
   "cell_type": "code",
   "source": [
    "class people:\n",
    "    name=''\n",
    "    age=0\n",
    "    __weight=0\n",
    "    def __init__(self,name,age,weight):\n",
    "        self.name=name\n",
    "        self.age=age\n",
    "        self.__weight=weight\n",
    "    def speak(self):\n",
    "        print(\"%s 说：我%d岁。\"%(self.name,self.age))\n",
    "x=people(\"xd\",29,123)\n",
    "x.speak()\n",
    "class student(people):\n",
    "    grade=''\n",
    "    def __init__(self,name,age,weight,grade):\n",
    "        people.__init__(self,name,age,weight)\n",
    "        self.grade=grade\n",
    "    def speak(self):\n",
    "        print(\"%s 说：我%d 岁了,我读%d年级！！\"%(self.name,self.age,self.grade))\n",
    "class speaker:\n",
    "    topic=''\n",
    "    name=''\n",
    "    def __init__(self,name,topic):\n",
    "        self.topic=topic\n",
    "        self.name=name\n",
    "    def speak(self):\n",
    "        print(\"我叫%s,我是一个演说家，我演讲的主题是%s\"%(self.name,self.topic))\n",
    "class sample(speaker,student):\n",
    "    a=''\n",
    "    def __init__(self,name,age,grade,topic,a,weight):\n",
    "        student.__init__(self,name,age,weight,grade)\n",
    "        speaker.__init__(self,name,topic)\n",
    "        self.a=a\n",
    "x=sample(\"xd\",29,123,123,\"歌唱祖国\",90)\n",
    "x.speak()"
   ],
   "id": "dbf3e7d0c3a93f23",
   "outputs": [
    {
     "name": "stdout",
     "output_type": "stream",
     "text": [
      "xd 说：我29岁。\n",
      "我叫xd,我是一个演说家，我演讲的主题是123\n"
     ]
    }
   ],
   "execution_count": 41
  },
  {
   "metadata": {
    "ExecuteTime": {
     "end_time": "2025-07-16T08:01:59.296390Z",
     "start_time": "2025-07-16T08:01:59.282178Z"
    }
   },
   "cell_type": "code",
   "source": [
    "class Parent:\n",
    "    def MyMethod(self):\n",
    "        print(\"Parent method\")\n",
    "class Child(Parent):\n",
    "    def MyMethod(self):\n",
    "        print(\"Child method\")\n",
    "c=Child()\n",
    "c.MyMethod()\n",
    "super(Child,c).MyMethod()"
   ],
   "id": "3045f862b0862aba",
   "outputs": [
    {
     "name": "stdout",
     "output_type": "stream",
     "text": [
      "Child method\n",
      "Parent method\n"
     ]
    }
   ],
   "execution_count": 45
  },
  {
   "metadata": {
    "ExecuteTime": {
     "end_time": "2025-07-16T08:06:22.155077Z",
     "start_time": "2025-07-16T08:06:22.124606Z"
    }
   },
   "cell_type": "code",
   "source": [
    "class JustCounter:\n",
    "    __secretCount=0\n",
    "    publicCount=0\n",
    "\n",
    "    def count(self):\n",
    "        self.__secretCount+=1\n",
    "        self.publicCount+=1\n",
    "        print(self.__secretCount)\n",
    "count=JustCounter()\n",
    "count.count()\n",
    "count.count()\n",
    "print(count.publicCount)\n",
    "print(count.__secretCount) #AttributeError: 'JustCounter' object has no attribute '__secretCount'"
   ],
   "id": "bbd3aa17cbc1eaaa",
   "outputs": [
    {
     "name": "stdout",
     "output_type": "stream",
     "text": [
      "1\n",
      "2\n",
      "2\n"
     ]
    },
    {
     "ename": "AttributeError",
     "evalue": "'JustCounter' object has no attribute '__secretCount'",
     "output_type": "error",
     "traceback": [
      "\u001B[1;31m---------------------------------------------------------------------------\u001B[0m",
      "\u001B[1;31mAttributeError\u001B[0m                            Traceback (most recent call last)",
      "Cell \u001B[1;32mIn[49], line 13\u001B[0m\n\u001B[0;32m     11\u001B[0m count\u001B[38;5;241m.\u001B[39mcount()\n\u001B[0;32m     12\u001B[0m \u001B[38;5;28mprint\u001B[39m(count\u001B[38;5;241m.\u001B[39mpublicCount)\n\u001B[1;32m---> 13\u001B[0m \u001B[38;5;28mprint\u001B[39m(\u001B[43mcount\u001B[49m\u001B[38;5;241;43m.\u001B[39;49m\u001B[43m__secretCount\u001B[49m) \u001B[38;5;66;03m#AttributeError: 'JustCounter' object has no attribute '__secretCount'\u001B[39;00m\n",
      "\u001B[1;31mAttributeError\u001B[0m: 'JustCounter' object has no attribute '__secretCount'"
     ]
    }
   ],
   "execution_count": 49
  },
  {
   "metadata": {
    "ExecuteTime": {
     "end_time": "2025-07-16T08:15:20.184357Z",
     "start_time": "2025-07-16T08:15:20.154962Z"
    }
   },
   "cell_type": "code",
   "source": [
    "class Site:\n",
    "    def __init__(self,name,url):\n",
    "        self.name=name\n",
    "        self.__url=url\n",
    "    def who(self):\n",
    "        print('name:',self.name)\n",
    "        print('url:',self.__url)\n",
    "    def __foo(self):\n",
    "        print('foo')\n",
    "    def foo(self):\n",
    "        print('foo')\n",
    "        self.__foo()\n",
    "x=Site('xd','https://www.xdailix.com')\n",
    "x.foo()\n",
    "x.who()\n",
    "x.__foo()#AttributeError: 'Site' object has no attribute '__foo'"
   ],
   "id": "2066e22efba7aab3",
   "outputs": [
    {
     "name": "stdout",
     "output_type": "stream",
     "text": [
      "foo\n",
      "foo\n",
      "name: xd\n",
      "url: https://www.xdailix.com\n"
     ]
    },
    {
     "ename": "AttributeError",
     "evalue": "'Site' object has no attribute '__foo'",
     "output_type": "error",
     "traceback": [
      "\u001B[1;31m---------------------------------------------------------------------------\u001B[0m",
      "\u001B[1;31mAttributeError\u001B[0m                            Traceback (most recent call last)",
      "Cell \u001B[1;32mIn[53], line 16\u001B[0m\n\u001B[0;32m     14\u001B[0m x\u001B[38;5;241m.\u001B[39mfoo()\n\u001B[0;32m     15\u001B[0m x\u001B[38;5;241m.\u001B[39mwho()\n\u001B[1;32m---> 16\u001B[0m \u001B[43mx\u001B[49m\u001B[38;5;241;43m.\u001B[39;49m\u001B[43m__foo\u001B[49m()\u001B[38;5;66;03m#AttributeError: 'Site' object has no attribute '__foo'\u001B[39;00m\n",
      "\u001B[1;31mAttributeError\u001B[0m: 'Site' object has no attribute '__foo'"
     ]
    }
   ],
   "execution_count": 53
  },
  {
   "metadata": {
    "ExecuteTime": {
     "end_time": "2025-07-16T08:20:14.667437Z",
     "start_time": "2025-07-16T08:20:14.656330Z"
    }
   },
   "cell_type": "code",
   "source": [
    "a=2\n",
    "b=3\n",
    "result=a**b\n",
    "print(result)\n",
    "\n",
    "c=a.__pow__(b)\n",
    "print(c)\n",
    "c=a.__add__(b)\n",
    "print(c)"
   ],
   "id": "f8dbee1a345ce504",
   "outputs": [
    {
     "name": "stdout",
     "output_type": "stream",
     "text": [
      "8\n",
      "8\n",
      "5\n"
     ]
    }
   ],
   "execution_count": 58
  },
  {
   "metadata": {
    "ExecuteTime": {
     "end_time": "2025-07-16T08:23:41.099675Z",
     "start_time": "2025-07-16T08:23:41.078361Z"
    }
   },
   "cell_type": "code",
   "source": [
    "class Vector:\n",
    "    def __init__(self,a,b):\n",
    "        self.a=a\n",
    "        self.b=b\n",
    "    def __add__(self,other):\n",
    "        return Vector(self.a*other.a,self.b*other.b)\n",
    "    def __str__(self):\n",
    "        return 'Vector(a=%d, b=%d)'%(self.a,self.b)\n",
    "v1=Vector(2,3)\n",
    "v2=Vector(4,5)\n",
    "print(v1+v2)\n"
   ],
   "id": "dc1df44c634dcc02",
   "outputs": [
    {
     "name": "stdout",
     "output_type": "stream",
     "text": [
      "Vector(a=8, b=15)\n"
     ]
    }
   ],
   "execution_count": 60
  }
 ],
 "metadata": {
  "kernelspec": {
   "display_name": "Python 3",
   "language": "python",
   "name": "python3"
  },
  "language_info": {
   "codemirror_mode": {
    "name": "ipython",
    "version": 2
   },
   "file_extension": ".py",
   "mimetype": "text/x-python",
   "name": "python",
   "nbconvert_exporter": "python",
   "pygments_lexer": "ipython2",
   "version": "2.7.6"
  }
 },
 "nbformat": 4,
 "nbformat_minor": 5
}
