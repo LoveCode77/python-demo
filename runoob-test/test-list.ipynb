{
 "cells": [
  {
   "cell_type": "code",
   "id": "initial_id",
   "metadata": {
    "collapsed": true
   },
   "source": "list=[]",
   "outputs": [],
   "execution_count": null
  },
  {
   "metadata": {},
   "cell_type": "markdown",
   "source": "#列表嵌套",
   "id": "d64076b1780a333c"
  },
  {
   "metadata": {},
   "cell_type": "code",
   "source": [
    "list=[[1,2,3],[4,5,6],[7,8,9]]\n",
    "var=list[1][1]\n",
    "for i in list:\n",
    "    for j in i:\n",
    "        print(j)\n",
    "print(var)"
   ],
   "id": "3e543dd9d5bc313a",
   "outputs": [],
   "execution_count": null
  },
  {
   "metadata": {},
   "cell_type": "code",
   "source": "# 列表比较",
   "id": "4f3ddae64e75974d",
   "outputs": [],
   "execution_count": null
  },
  {
   "metadata": {},
   "cell_type": "code",
   "source": [
    "import operator\n",
    "a=[1,2]\n",
    "b=[3,4]\n",
    "c=[5,6]\n",
    "\n",
    "print(operator.eq(a,b))\n",
    "print(operator.ne(a,b))\n",
    "print(operator.lt(a,b))\n",
    "print(operator.le(a,b))\n",
    "print(operator.gt(a,b))\n",
    "print(operator.ge(a,b))\n"
   ],
   "id": "bd14243db312a3f5",
   "outputs": [],
   "execution_count": null
  },
  {
   "metadata": {},
   "cell_type": "code",
   "source": [
    "while True:\n",
    "    try:\n",
    "        x=int(input(\"Enter a number: \"))\n",
    "        break\n",
    "    except ValueError:\n",
    "        print(\"Please enter a number.\")"
   ],
   "id": "e20df2d06797de4e",
   "outputs": [],
   "execution_count": null
  },
  {
   "metadata": {
    "ExecuteTime": {
     "end_time": "2025-07-16T03:38:06.776116Z",
     "start_time": "2025-07-16T03:38:06.754522Z"
    }
   },
   "cell_type": "code",
   "source": [
    "import sys\n",
    "\n",
    "try:\n",
    "    f = open('myfile.txt')\n",
    "    s = f.readline()\n",
    "    i = int(s.strip())\n",
    "    i=5/0\n",
    "except OSError as err:\n",
    "    print(\"OS error: {0}\".format(err))\n",
    "except ValueError:\n",
    "    print(\"Could not convert data to an integer.\")\n",
    "except:\n",
    "    print(\"Unexpected error:\", sys.exc_info()[0])\n",
    "    raise"
   ],
   "id": "31e95380d3c08cc1",
   "outputs": [
    {
     "name": "stdout",
     "output_type": "stream",
     "text": [
      "Unexpected error: <class 'ZeroDivisionError'>\n"
     ]
    },
    {
     "ename": "ZeroDivisionError",
     "evalue": "division by zero",
     "output_type": "error",
     "traceback": [
      "\u001B[1;31m---------------------------------------------------------------------------\u001B[0m",
      "\u001B[1;31mZeroDivisionError\u001B[0m                         Traceback (most recent call last)",
      "Cell \u001B[1;32mIn[26], line 7\u001B[0m\n\u001B[0;32m      5\u001B[0m     s \u001B[38;5;241m=\u001B[39m f\u001B[38;5;241m.\u001B[39mreadline()\n\u001B[0;32m      6\u001B[0m     i \u001B[38;5;241m=\u001B[39m \u001B[38;5;28mint\u001B[39m(s\u001B[38;5;241m.\u001B[39mstrip())\n\u001B[1;32m----> 7\u001B[0m     i\u001B[38;5;241m=\u001B[39m\u001B[38;5;241;43m5\u001B[39;49m\u001B[38;5;241;43m/\u001B[39;49m\u001B[38;5;241;43m0\u001B[39;49m\n\u001B[0;32m      8\u001B[0m \u001B[38;5;28;01mexcept\u001B[39;00m \u001B[38;5;167;01mOSError\u001B[39;00m \u001B[38;5;28;01mas\u001B[39;00m err:\n\u001B[0;32m      9\u001B[0m     \u001B[38;5;28mprint\u001B[39m(\u001B[38;5;124m\"\u001B[39m\u001B[38;5;124mOS error: \u001B[39m\u001B[38;5;132;01m{0}\u001B[39;00m\u001B[38;5;124m\"\u001B[39m\u001B[38;5;241m.\u001B[39mformat(err))\n",
      "\u001B[1;31mZeroDivisionError\u001B[0m: division by zero"
     ]
    }
   ],
   "execution_count": 26
  },
  {
   "metadata": {
    "ExecuteTime": {
     "end_time": "2025-07-16T03:45:48.755846Z",
     "start_time": "2025-07-16T03:45:48.745563Z"
    }
   },
   "cell_type": "code",
   "source": [
    "for arg in sys.argv[1:]:\n",
    "    try:\n",
    "        f = open(arg, 'r')\n",
    "    except IOError:\n",
    "        print('cannot open', arg)\n",
    "    else:\n",
    "        print(arg, 'has', len(f.readlines()), 'lines')\n",
    "        f.close()"
   ],
   "id": "5511091a4d6e4f36",
   "outputs": [
    {
     "name": "stdout",
     "output_type": "stream",
     "text": [
      "cannot open -f\n",
      "C:\\Users\\18226\\AppData\\Roaming\\jupyter\\runtime\\kernel-65c3f8e5-f6bb-4446-8afc-74aff014224f.json has 13 lines\n"
     ]
    }
   ],
   "execution_count": 29
  },
  {
   "metadata": {
    "ExecuteTime": {
     "end_time": "2025-07-16T03:49:59.266616Z",
     "start_time": "2025-07-16T03:49:59.252418Z"
    }
   },
   "cell_type": "code",
   "source": [
    "def divide(a, b):\n",
    "    if b == 0:\n",
    "        raise ZeroDivisionError(\"除数不能为零异常11\")  # 主动抛出异常\n",
    "    return a / b\n",
    "\n",
    "# result = divide(5, 0)\n",
    "# 调用示例\n",
    "try:\n",
    "    result = divide(5, 0)\n",
    "except ZeroDivisionError as e:\n",
    "    print(f\"错误: {e}\")  # 输出: 错误: 除数不能为零"
   ],
   "id": "f037950cd25d905c",
   "outputs": [
    {
     "name": "stdout",
     "output_type": "stream",
     "text": [
      "错误: 除数不能为零异常11\n"
     ]
    }
   ],
   "execution_count": 41
  },
  {
   "metadata": {
    "ExecuteTime": {
     "end_time": "2025-07-16T03:50:52.989816Z",
     "start_time": "2025-07-16T03:50:52.967392Z"
    }
   },
   "cell_type": "code",
   "source": [
    "try:\n",
    "    x = 5 / 0  # 触发 ZeroDivisionError\n",
    "except ZeroDivisionError:\n",
    "    print(\"捕获到除零错误！\")\n",
    "    raise  # 重新抛出异常，让上层代码处理"
   ],
   "id": "362c1fa4298b7196",
   "outputs": [
    {
     "name": "stdout",
     "output_type": "stream",
     "text": [
      "捕获到除零错误！\n"
     ]
    },
    {
     "ename": "ZeroDivisionError",
     "evalue": "division by zero",
     "output_type": "error",
     "traceback": [
      "\u001B[1;31m---------------------------------------------------------------------------\u001B[0m",
      "\u001B[1;31mZeroDivisionError\u001B[0m                         Traceback (most recent call last)",
      "Cell \u001B[1;32mIn[42], line 2\u001B[0m\n\u001B[0;32m      1\u001B[0m \u001B[38;5;28;01mtry\u001B[39;00m:\n\u001B[1;32m----> 2\u001B[0m     x \u001B[38;5;241m=\u001B[39m \u001B[38;5;241;43m5\u001B[39;49m\u001B[43m \u001B[49m\u001B[38;5;241;43m/\u001B[39;49m\u001B[43m \u001B[49m\u001B[38;5;241;43m0\u001B[39;49m  \u001B[38;5;66;03m# 触发 ZeroDivisionError\u001B[39;00m\n\u001B[0;32m      3\u001B[0m \u001B[38;5;28;01mexcept\u001B[39;00m \u001B[38;5;167;01mZeroDivisionError\u001B[39;00m:\n\u001B[0;32m      4\u001B[0m     \u001B[38;5;28mprint\u001B[39m(\u001B[38;5;124m\"\u001B[39m\u001B[38;5;124m捕获到除零错误！\u001B[39m\u001B[38;5;124m\"\u001B[39m)\n",
      "\u001B[1;31mZeroDivisionError\u001B[0m: division by zero"
     ]
    }
   ],
   "execution_count": 42
  }
 ],
 "metadata": {
  "kernelspec": {
   "display_name": "Python 3",
   "language": "python",
   "name": "python3"
  },
  "language_info": {
   "codemirror_mode": {
    "name": "ipython",
    "version": 2
   },
   "file_extension": ".py",
   "mimetype": "text/x-python",
   "name": "python",
   "nbconvert_exporter": "python",
   "pygments_lexer": "ipython2",
   "version": "2.7.6"
  }
 },
 "nbformat": 4,
 "nbformat_minor": 5
}
