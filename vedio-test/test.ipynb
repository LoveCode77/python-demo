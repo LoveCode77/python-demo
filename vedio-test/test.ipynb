{
 "cells": [
  {
   "metadata": {
    "collapsed": true,
    "ExecuteTime": {
     "end_time": "2025-07-16T02:00:05.127305Z",
     "start_time": "2025-07-16T02:00:05.090044Z"
    }
   },
   "cell_type": "code",
   "source": "print(\"1\")",
   "id": "initial_id",
   "outputs": [
    {
     "name": "stdout",
     "output_type": "stream",
     "text": [
      "1\n"
     ]
    }
   ],
   "execution_count": 1
  },
  {
   "metadata": {},
   "cell_type": "code",
   "source": [
    "from moviepy.editor import VideoFileClip\n",
    "import os\n",
    "\n",
    "\n",
    "def extract_all_frames(video_path, output_folder, prefix=\"frame\", ext=\"jpg\"):\n",
    "    \"\"\"提取视频的每一帧\"\"\"\n",
    "    # 创建输出目录\n",
    "    os.makedirs(output_folder, exist_ok=True)\n",
    "\n",
    "    # 加载视频\n",
    "    clip = VideoFileClip(video_path)\n",
    "\n",
    "    # 获取总帧数和帧率\n",
    "    fps = clip.fps\n",
    "    duration = clip.duration\n",
    "    total_frames = int(fps * duration)\n",
    "\n",
    "    # 逐帧提取并保存\n",
    "    for i in range(total_frames):\n",
    "        # 计算当前帧的时间（秒）\n",
    "        t = i / fps\n",
    "\n",
    "        # 获取帧并保存\n",
    "        frame = clip.get_frame(t)\n",
    "        frame_path = os.path.join(output_folder, f\"{prefix}_{i:05d}.{ext}\")\n",
    "\n",
    "        # 使用 PIL 保存帧（支持多种格式）\n",
    "        from PIL import Image\n",
    "        img = Image.fromarray(frame)\n",
    "        img.save(frame_path)\n",
    "\n",
    "        # 打印进度\n",
    "        if i % 100 == 0:\n",
    "            print(f\"已提取 {i}/{total_frames} 帧\")\n",
    "\n",
    "    clip.close()\n",
    "    print(f\"完成！共提取 {total_frames} 帧到 {output_folder}\")\n",
    "\n",
    "\n",
    "# 使用示例\n",
    "extract_all_frames(\"output_moviepy1.mp4\", \"output_moviepy1\")"
   ],
   "id": "1ddf9d9b89bef637",
   "outputs": [],
   "execution_count": null
  },
  {
   "metadata": {
    "ExecuteTime": {
     "end_time": "2025-07-16T02:26:04.864222Z",
     "start_time": "2025-07-16T02:26:04.849283Z"
    }
   },
   "cell_type": "code",
   "source": [
    "set={\n",
    "    1,2,3,4,5,6,7,8,9,10,1,2,3,4,5,6,7,8,9,10,1,2,3,4,5,6,7,8,9,10,1,\n",
    "}\n",
    "print(set)\n",
    "print(len(set))\n",
    "print(len(set))\n",
    "set.add(11)\n",
    "set.update([12,13,14,15])\n",
    "set.update({\"zhangsan\":1111,})\n",
    "set.discard(\"zhangsan\")\n",
    "set.discard(\"zhangsan\")\n",
    "# set.clear()\n",
    "s = set\n",
    "in_s = 1 in s\n",
    "print(in_s)\n",
    "print(set)"
   ],
   "id": "12bb7230eed0c788",
   "outputs": [
    {
     "name": "stdout",
     "output_type": "stream",
     "text": [
      "{1, 2, 3, 4, 5, 6, 7, 8, 9, 10}\n",
      "10\n",
      "10\n",
      "True\n",
      "{1, 2, 3, 4, 5, 6, 7, 8, 9, 10, 11, 12, 13, 14, 15}\n"
     ]
    }
   ],
   "execution_count": 16
  }
 ],
 "metadata": {
  "kernelspec": {
   "display_name": "Python 3",
   "language": "python",
   "name": "python3"
  },
  "language_info": {
   "codemirror_mode": {
    "name": "ipython",
    "version": 2
   },
   "file_extension": ".py",
   "mimetype": "text/x-python",
   "name": "python",
   "nbconvert_exporter": "python",
   "pygments_lexer": "ipython2",
   "version": "2.7.6"
  }
 },
 "nbformat": 4,
 "nbformat_minor": 5
}
